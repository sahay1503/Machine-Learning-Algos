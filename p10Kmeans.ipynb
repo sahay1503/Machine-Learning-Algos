{
 "cells": [
  {
   "cell_type": "code",
   "execution_count": null,
   "metadata": {},
   "outputs": [],
   "source": [
    "# Import necessary libraries\n",
    "import numpy as np\n",
    "import pandas as pd\n",
    "import matplotlib.pyplot as plt\n",
    "from sklearn.datasets import load_iris\n",
    "from sklearn.cluster import KMeans\n",
    "from sklearn.preprocessing import StandardScaler\n",
    "from sklearn.metrics import silhouette_score\n",
    "# Load Iris dataset\n",
    "iris = load_iris()\n",
    "X = iris.data\n",
    "y = iris.target\n",
    "# Standardize the feature data\n",
    "scaler = StandardScaler()\n",
    "X_std = scaler.fit_transform(X)\n",
    "# Choose the number of clusters (k)\n",
    "k = 3\n",
    "\n",
    "# Create KMeans instance and fit the model\n",
    "kmeans = KMeans(n_clusters=k, random_state=42)\n",
    "kmeans.fit(X_std)\n",
    "# Get cluster labels and centroids\n",
    "labels = kmeans.labels_\n",
    "centroids = kmeans.cluster_centers_\n",
    "# Evaluate clustering performance using silhouette score\n",
    "silhouette_avg = silhouette_score(X_std, labels)\n",
    "print(f\"Silhouette Score: {silhouette_avg}\")\n",
    "# Visualize the clustering result\n",
    "colors = np.array(['red', 'green', 'blue'])\n",
    "plt.scatter(X_std[:, 0], X_std[:, 1], c=colors[labels], marker='o', edgecolor='black', s=50, label='Clustered Data')\n",
    "plt.scatter(centroids[:, 0], centroids[:, 1], c='black', marker='X', s=200, label='Centroids')\n",
    "plt.title('K-Means Clustering of Iris Dataset')\n",
    "plt.xlabel('Feature 1 (Standardized)')\n",
    "plt.ylabel('Feature 2 (Standardized)')\n",
    "plt.legend()\n",
    "plt.show()"
   ]
  }
 ],
 "metadata": {
  "language_info": {
   "name": "python"
  }
 },
 "nbformat": 4,
 "nbformat_minor": 2
}
